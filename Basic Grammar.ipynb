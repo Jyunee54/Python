{
 "cells": [
  {
   "cell_type": "markdown",
   "id": "067e7975",
   "metadata": {},
   "source": [
    "# 파이썬 기초 문법\n",
    "\n",
    "- Jupyter Notebook 사용법\n",
    "- Markdown 기능 : 파이썬 문법이 아닌 설명이나, 주석을 작성하는 의도\n",
    "\n",
    "## 1️⃣ 변수\n",
    "\n",
    "- 변수 : 데이터를 들고 다니는 공간\n",
    "- 변수를 선언한다 : 등호기호(=)를 기준으로 오른쪽의 값을 왼쪽의 사용자가 지정한 이름으로 선언 (지정한다)"
   ]
  },
  {
   "cell_type": "code",
   "execution_count": 4,
   "id": "09effcce",
   "metadata": {},
   "outputs": [],
   "source": [
    "data1 = 100.2375\n",
    "data2 = 51.2"
   ]
  },
  {
   "cell_type": "code",
   "execution_count": 5,
   "id": "0f9c460f",
   "metadata": {},
   "outputs": [
    {
     "data": {
      "text/plain": [
       "100.2375"
      ]
     },
     "execution_count": 5,
     "metadata": {},
     "output_type": "execute_result"
    }
   ],
   "source": [
    "data1"
   ]
  },
  {
   "cell_type": "code",
   "execution_count": 6,
   "id": "ceacdaa3",
   "metadata": {},
   "outputs": [
    {
     "data": {
      "text/plain": [
       "151.4375"
      ]
     },
     "execution_count": 6,
     "metadata": {},
     "output_type": "execute_result"
    }
   ],
   "source": [
    "data1 + data2"
   ]
  },
  {
   "cell_type": "markdown",
   "id": "808f68a3",
   "metadata": {},
   "source": [
    "## 2️⃣ 파이썬 데이터 타입\n",
    "\n",
    "- 숫자형\n",
    "  - 정수형 (파이썬 표현: int)\n",
    "  - 실수형 (파이썬 표현: float)\n",
    "- 문자형\n",
    "  - 문자열 (파이썬 표현: str → 따옴표 또는 쌍따옴표를 이용해서 사용)\n",
    "- 논리형\n",
    "  - 참/거짓 (True/False) (파이썬 표현: bool → 첫글자를 대문자로 사용)\n",
    "\n",
    "\n",
    "\n",
    "⚠️ 파이썬은 대소문자를 구분한다.\n",
    "\n",
    "📌 `type()` : 특정 변수 안에 있는 데이터의 타입을 확인하는 기능"
   ]
  },
  {
   "cell_type": "code",
   "execution_count": 7,
   "id": "95876592",
   "metadata": {},
   "outputs": [
    {
     "data": {
      "text/plain": [
       "float"
      ]
     },
     "execution_count": 7,
     "metadata": {},
     "output_type": "execute_result"
    }
   ],
   "source": [
    "type(data1)"
   ]
  },
  {
   "cell_type": "code",
   "execution_count": 8,
   "id": "8ea45532",
   "metadata": {},
   "outputs": [],
   "source": [
    "data3 = '파이썬 데이터 분석'"
   ]
  },
  {
   "cell_type": "code",
   "execution_count": 9,
   "id": "85347baa",
   "metadata": {},
   "outputs": [
    {
     "data": {
      "text/plain": [
       "'파이썬 데이터 분석'"
      ]
     },
     "execution_count": 9,
     "metadata": {},
     "output_type": "execute_result"
    }
   ],
   "source": [
    "data3"
   ]
  },
  {
   "cell_type": "code",
   "execution_count": 11,
   "id": "9cf10f9a",
   "metadata": {},
   "outputs": [
    {
     "data": {
      "text/plain": [
       "str"
      ]
     },
     "execution_count": 11,
     "metadata": {},
     "output_type": "execute_result"
    }
   ],
   "source": [
    "type(data3)"
   ]
  },
  {
   "cell_type": "code",
   "execution_count": 12,
   "id": "b1310467",
   "metadata": {},
   "outputs": [
    {
     "data": {
      "text/plain": [
       "True"
      ]
     },
     "execution_count": 12,
     "metadata": {},
     "output_type": "execute_result"
    }
   ],
   "source": [
    "True"
   ]
  },
  {
   "cell_type": "markdown",
   "id": "2d152b1e",
   "metadata": {},
   "source": [
    "## 3️⃣ 연산자\n",
    "\n",
    "- 파이썬 연산자 (Operator)\n",
    "- 데이터 타입에 따라 연산의 방법이 달라진다.\n"
   ]
  },
  {
   "cell_type": "markdown",
   "id": "30200482",
   "metadata": {},
   "source": [
    "### 숫자형 연산"
   ]
  },
  {
   "cell_type": "code",
   "execution_count": 13,
   "id": "1b182b63",
   "metadata": {},
   "outputs": [
    {
     "data": {
      "text/plain": [
       "151.4375"
      ]
     },
     "execution_count": 13,
     "metadata": {},
     "output_type": "execute_result"
    }
   ],
   "source": [
    "# 덧셈\n",
    "data1 + data2"
   ]
  },
  {
   "cell_type": "code",
   "execution_count": 18,
   "id": "5b2c5c67",
   "metadata": {},
   "outputs": [
    {
     "data": {
      "text/plain": [
       "49.037499999999994"
      ]
     },
     "execution_count": 18,
     "metadata": {},
     "output_type": "execute_result"
    }
   ],
   "source": [
    "# 뺄셈\n",
    "data1 - data2"
   ]
  },
  {
   "cell_type": "code",
   "execution_count": 15,
   "id": "29a19ec5",
   "metadata": {},
   "outputs": [
    {
     "data": {
      "text/plain": [
       "5132.16"
      ]
     },
     "execution_count": 15,
     "metadata": {},
     "output_type": "execute_result"
    }
   ],
   "source": [
    "# 곱셈\n",
    "data1 * data2"
   ]
  },
  {
   "cell_type": "code",
   "execution_count": 16,
   "id": "005fd7e1",
   "metadata": {},
   "outputs": [
    {
     "data": {
      "text/plain": [
       "1.9577636718749998"
      ]
     },
     "execution_count": 16,
     "metadata": {},
     "output_type": "execute_result"
    }
   ],
   "source": [
    "# 나눗셈\n",
    "data1 / data2"
   ]
  },
  {
   "cell_type": "code",
   "execution_count": 17,
   "id": "e536583f",
   "metadata": {},
   "outputs": [
    {
     "data": {
      "text/plain": [
       "10047.55640625"
      ]
     },
     "execution_count": 17,
     "metadata": {},
     "output_type": "execute_result"
    }
   ],
   "source": [
    "#거듭제곱\n",
    "data1 ** 2"
   ]
  },
  {
   "cell_type": "markdown",
   "id": "5e974606",
   "metadata": {},
   "source": [
    "### 문자형 데이터 연산"
   ]
  },
  {
   "cell_type": "code",
   "execution_count": 21,
   "id": "10381a41",
   "metadata": {},
   "outputs": [],
   "source": [
    "data4 = \"python 데이터\"\n",
    "data5 = \"분석\""
   ]
  },
  {
   "cell_type": "code",
   "execution_count": 23,
   "id": "5671b03e",
   "metadata": {},
   "outputs": [
    {
     "data": {
      "text/plain": [
       "'python 데이터분석'"
      ]
     },
     "execution_count": 23,
     "metadata": {},
     "output_type": "execute_result"
    }
   ],
   "source": [
    "# 데이터 타입이 같은 경우, 두 개의 문자열을 이어붙여 쓸 수 있다.\n",
    "data4 + data5"
   ]
  },
  {
   "cell_type": "code",
   "execution_count": 24,
   "id": "c73eed07",
   "metadata": {},
   "outputs": [
    {
     "data": {
      "text/plain": [
       "'분석분석분석'"
      ]
     },
     "execution_count": 24,
     "metadata": {},
     "output_type": "execute_result"
    }
   ],
   "source": [
    "# 문자를 중복하여 이어붙여 쓸 때\n",
    "data5 * 3"
   ]
  },
  {
   "cell_type": "markdown",
   "id": "2d6350b0",
   "metadata": {},
   "source": [
    "### 논리형 연산 (비교구분)"
   ]
  },
  {
   "cell_type": "code",
   "execution_count": 25,
   "id": "18b7e85d",
   "metadata": {},
   "outputs": [],
   "source": [
    "data6 = 50\n",
    "data7 = 90"
   ]
  },
  {
   "cell_type": "code",
   "execution_count": 26,
   "id": "fbbdc439",
   "metadata": {},
   "outputs": [
    {
     "data": {
      "text/plain": [
       "True"
      ]
     },
     "execution_count": 26,
     "metadata": {},
     "output_type": "execute_result"
    }
   ],
   "source": [
    "data6 < data7"
   ]
  },
  {
   "cell_type": "code",
   "execution_count": 27,
   "id": "cf5fee9a",
   "metadata": {},
   "outputs": [
    {
     "data": {
      "text/plain": [
       "False"
      ]
     },
     "execution_count": 27,
     "metadata": {},
     "output_type": "execute_result"
    }
   ],
   "source": [
    "data6 > data7"
   ]
  },
  {
   "cell_type": "code",
   "execution_count": 30,
   "id": "5ade7f80",
   "metadata": {},
   "outputs": [
    {
     "data": {
      "text/plain": [
       "True"
      ]
     },
     "execution_count": 30,
     "metadata": {},
     "output_type": "execute_result"
    }
   ],
   "source": [
    "# data6보다 data7이 크거나 같다\n",
    "data6 <= data7"
   ]
  },
  {
   "cell_type": "code",
   "execution_count": 31,
   "id": "b68e0c7a",
   "metadata": {},
   "outputs": [
    {
     "data": {
      "text/plain": [
       "False"
      ]
     },
     "execution_count": 31,
     "metadata": {},
     "output_type": "execute_result"
    }
   ],
   "source": [
    "data6 >= data7"
   ]
  },
  {
   "cell_type": "code",
   "execution_count": 32,
   "id": "62c994c9",
   "metadata": {},
   "outputs": [
    {
     "data": {
      "text/plain": [
       "False"
      ]
     },
     "execution_count": 32,
     "metadata": {},
     "output_type": "execute_result"
    }
   ],
   "source": [
    "# 두 숫자 데이터가 같다\n",
    "data6 == data7"
   ]
  },
  {
   "cell_type": "code",
   "execution_count": 33,
   "id": "642341c0",
   "metadata": {},
   "outputs": [
    {
     "data": {
      "text/plain": [
       "True"
      ]
     },
     "execution_count": 33,
     "metadata": {},
     "output_type": "execute_result"
    }
   ],
   "source": [
    "# 두 숫자 데이터가 다르다 (!= not equal)\n",
    "data6 != data7"
   ]
  }
 ],
 "metadata": {
  "kernelspec": {
   "display_name": "Python 3 (ipykernel)",
   "language": "python",
   "name": "python3"
  },
  "language_info": {
   "codemirror_mode": {
    "name": "ipython",
    "version": 3
   },
   "file_extension": ".py",
   "mimetype": "text/x-python",
   "name": "python",
   "nbconvert_exporter": "python",
   "pygments_lexer": "ipython3",
   "version": "3.11.4"
  }
 },
 "nbformat": 4,
 "nbformat_minor": 5
}
