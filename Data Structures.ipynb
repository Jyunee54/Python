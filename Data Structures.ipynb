{
 "cells": [
  {
   "cell_type": "markdown",
   "id": "fdf52381",
   "metadata": {},
   "source": [
    "# 파이썬 자료구조\n",
    "\n",
    "- 하나의 변수에 여러개의 데이터를 들고다니고 싶을 때\n",
    "- 데이터를 들고다닐 수 있는 다양한 형태의 상자(파이썬 자료구조)\n",
    "\n",
    "## 1. List 리스트 (대괄호 사용)\n",
    "\n",
    "- 데이터의 순서 존재\n",
    "- 중복 값 사용 가능\n",
    "- 데이터 추가, 변경, 삭제 가능"
   ]
  },
  {
   "cell_type": "code",
   "execution_count": 3,
   "id": "1f3345bd",
   "metadata": {},
   "outputs": [],
   "source": [
    "# 리스트 (List) 자료구조\n",
    "data1 = [20, 30, 50, 10, 90]"
   ]
  },
  {
   "cell_type": "code",
   "execution_count": 4,
   "id": "147f73f7",
   "metadata": {},
   "outputs": [
    {
     "data": {
      "text/plain": [
       "[20, 30, 50, 10, 90]"
      ]
     },
     "execution_count": 4,
     "metadata": {},
     "output_type": "execute_result"
    }
   ],
   "source": [
    "data1"
   ]
  },
  {
   "cell_type": "code",
   "execution_count": 5,
   "id": "448cfc1a",
   "metadata": {},
   "outputs": [],
   "source": [
    "# 기존의 data1 리스트 맨 끝에 새로운 150 숫자 데이터 추가\n",
    "# .append() 함수\n",
    "# 함수 : 파이썬에서 특정 기능을 수행하기 위해 프로그래머들이 만들어 놓은 구문 \n",
    "data1.append(150)"
   ]
  },
  {
   "cell_type": "code",
   "execution_count": 6,
   "id": "88226ecd",
   "metadata": {},
   "outputs": [
    {
     "data": {
      "text/plain": [
       "[20, 30, 50, 10, 90, 150]"
      ]
     },
     "execution_count": 6,
     "metadata": {},
     "output_type": "execute_result"
    }
   ],
   "source": [
    "data1"
   ]
  },
  {
   "cell_type": "code",
   "execution_count": 7,
   "id": "6844dfe9",
   "metadata": {},
   "outputs": [],
   "source": [
    "#data1 리스트 내에 있는 90이라는 데이터를 제거\n",
    "data1.remove(90)"
   ]
  },
  {
   "cell_type": "code",
   "execution_count": 8,
   "id": "7d544978",
   "metadata": {},
   "outputs": [
    {
     "data": {
      "text/plain": [
       "[20, 30, 50, 10, 150]"
      ]
     },
     "execution_count": 8,
     "metadata": {},
     "output_type": "execute_result"
    }
   ],
   "source": [
    "data1"
   ]
  },
  {
   "cell_type": "markdown",
   "id": "b4c419c0",
   "metadata": {},
   "source": [
    "## 2. Tuple 튜플 (소괄호 사용)\n",
    "\n",
    "- 데이터의 순서 존재\n",
    "- 중복 허용\n",
    "- 데이터 추가, 삭제, 변경하는 것이 불가능\n"
   ]
  },
  {
   "cell_type": "code",
   "execution_count": 10,
   "id": "420728ee",
   "metadata": {},
   "outputs": [
    {
     "data": {
      "text/plain": [
       "(100, 100, 40, 20, 50)"
      ]
     },
     "execution_count": 10,
     "metadata": {},
     "output_type": "execute_result"
    }
   ],
   "source": [
    "data2 = (100, 100, 40, 20, 50)\n",
    "data2"
   ]
  },
  {
   "cell_type": "code",
   "execution_count": 11,
   "id": "aca31124",
   "metadata": {},
   "outputs": [
    {
     "data": {
      "text/plain": [
       "tuple"
      ]
     },
     "execution_count": 11,
     "metadata": {},
     "output_type": "execute_result"
    }
   ],
   "source": [
    "type(data2) # 데이터 자료구조 확인 가능"
   ]
  },
  {
   "cell_type": "markdown",
   "id": "5ee46ff2",
   "metadata": {},
   "source": [
    "## 3. Set 셋 (중괄호 사용)\n",
    "\n",
    "- 데이터 순서 X\n",
    "- 중복 불가능\n",
    "- 데이터 추가, 삭제, 변경 가능\n",
    "- 집합 연산 가능 (교집합, 합집합, 차집합)\n"
   ]
  },
  {
   "cell_type": "code",
   "execution_count": 12,
   "id": "916600a4",
   "metadata": {},
   "outputs": [
    {
     "data": {
      "text/plain": [
       "{20, 30, 50, 100}"
      ]
     },
     "execution_count": 12,
     "metadata": {},
     "output_type": "execute_result"
    }
   ],
   "source": [
    "data3 = {30,20,100,50,20,20,20,20}\n",
    "data3"
   ]
  },
  {
   "cell_type": "code",
   "execution_count": 13,
   "id": "49fd478e",
   "metadata": {},
   "outputs": [],
   "source": [
    "data4 = {20,30,40,50,60}\n",
    "data5 = {50,60,70,80}"
   ]
  },
  {
   "cell_type": "code",
   "execution_count": 14,
   "id": "33cd3278",
   "metadata": {},
   "outputs": [
    {
     "data": {
      "text/plain": [
       "{50, 60}"
      ]
     },
     "execution_count": 14,
     "metadata": {},
     "output_type": "execute_result"
    }
   ],
   "source": [
    "# 교집합\n",
    "data4 & data5"
   ]
  },
  {
   "cell_type": "code",
   "execution_count": 15,
   "id": "55f65369",
   "metadata": {},
   "outputs": [
    {
     "data": {
      "text/plain": [
       "{20, 30, 40, 50, 60, 70, 80}"
      ]
     },
     "execution_count": 15,
     "metadata": {},
     "output_type": "execute_result"
    }
   ],
   "source": [
    "# 합집합\n",
    "data4 | data5"
   ]
  },
  {
   "cell_type": "code",
   "execution_count": 16,
   "id": "f061fcf7",
   "metadata": {},
   "outputs": [
    {
     "data": {
      "text/plain": [
       "{20, 30, 40}"
      ]
     },
     "execution_count": 16,
     "metadata": {},
     "output_type": "execute_result"
    }
   ],
   "source": [
    "# 차집합\n",
    "data4 - data5"
   ]
  },
  {
   "cell_type": "code",
   "execution_count": 17,
   "id": "1c8fed7f",
   "metadata": {},
   "outputs": [
    {
     "data": {
      "text/plain": [
       "{70, 80}"
      ]
     },
     "execution_count": 17,
     "metadata": {},
     "output_type": "execute_result"
    }
   ],
   "source": [
    "data5- data4"
   ]
  },
  {
   "cell_type": "code",
   "execution_count": 19,
   "id": "70c3e0c6",
   "metadata": {},
   "outputs": [
    {
     "data": {
      "text/plain": [
       "{20, 30, 40, 70, 80}"
      ]
     },
     "execution_count": 19,
     "metadata": {},
     "output_type": "execute_result"
    }
   ],
   "source": [
    "# 대상차집합 연산 수행 (교집합을 제외한 나머지)\n",
    "data4 ^ data5"
   ]
  },
  {
   "cell_type": "markdown",
   "id": "9383ff83",
   "metadata": {},
   "source": [
    "## 4. Dictionary 딕셔너리 (중괄호 사용)\n",
    "\n",
    "- 키:값 쌍으로 구성"
   ]
  },
  {
   "cell_type": "code",
   "execution_count": 20,
   "id": "30d8b32d",
   "metadata": {},
   "outputs": [
    {
     "data": {
      "text/plain": [
       "{'이름': '홍길동', '나이': 30, '지역': '서울'}"
      ]
     },
     "execution_count": 20,
     "metadata": {},
     "output_type": "execute_result"
    }
   ],
   "source": [
    "data6 = {'이름':'홍길동', '나이':30, '지역':'서울'}\n",
    "data6"
   ]
  },
  {
   "cell_type": "code",
   "execution_count": 21,
   "id": "d1f4161d",
   "metadata": {},
   "outputs": [
    {
     "data": {
      "text/plain": [
       "'홍길동'"
      ]
     },
     "execution_count": 21,
     "metadata": {},
     "output_type": "execute_result"
    }
   ],
   "source": [
    "# 특정 딕셔너리의 키를 통해, 해당 값이 출력되는 형태 (인덱싱)\n",
    "data6['이름']"
   ]
  },
  {
   "cell_type": "code",
   "execution_count": 22,
   "id": "19310f29",
   "metadata": {},
   "outputs": [
    {
     "data": {
      "text/plain": [
       "30"
      ]
     },
     "execution_count": 22,
     "metadata": {},
     "output_type": "execute_result"
    }
   ],
   "source": [
    "data6['나이']"
   ]
  },
  {
   "cell_type": "code",
   "execution_count": 23,
   "id": "9971cf42",
   "metadata": {},
   "outputs": [
    {
     "data": {
      "text/plain": [
       "'서울'"
      ]
     },
     "execution_count": 23,
     "metadata": {},
     "output_type": "execute_result"
    }
   ],
   "source": [
    "data6['지역']"
   ]
  }
 ],
 "metadata": {
  "kernelspec": {
   "display_name": "Python 3 (ipykernel)",
   "language": "python",
   "name": "python3"
  },
  "language_info": {
   "codemirror_mode": {
    "name": "ipython",
    "version": 3
   },
   "file_extension": ".py",
   "mimetype": "text/x-python",
   "name": "python",
   "nbconvert_exporter": "python",
   "pygments_lexer": "ipython3",
   "version": "3.11.4"
  }
 },
 "nbformat": 4,
 "nbformat_minor": 5
}
